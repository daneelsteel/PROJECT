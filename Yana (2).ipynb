{
  "nbformat": 4,
  "nbformat_minor": 0,
  "metadata": {
    "kernelspec": {
      "display_name": "Python 3",
      "language": "python",
      "name": "python3"
    },
    "language_info": {
      "codemirror_mode": {
        "name": "ipython",
        "version": 3
      },
      "file_extension": ".py",
      "mimetype": "text/x-python",
      "name": "python",
      "nbconvert_exporter": "python",
      "pygments_lexer": "ipython3",
      "version": "3.7.4"
    },
    "colab": {
      "name": "Yana (2).ipynb",
      "provenance": []
    }
  },
  "cells": [
    {
      "cell_type": "markdown",
      "metadata": {
        "id": "8YgImgp2yPF7"
      },
      "source": [
        "# Проект"
      ]
    },
    {
      "cell_type": "markdown",
      "metadata": {
        "id": "95pflUoFyPF9"
      },
      "source": [
        "### оставь надежду, всяк сюда входящий - возьми лучше корпус"
      ]
    },
    {
      "cell_type": "markdown",
      "metadata": {
        "id": "1GHObOdGyPF-"
      },
      "source": [
        "ячейка для импортов"
      ]
    },
    {
      "cell_type": "code",
      "metadata": {
        "id": "OTJEAVdKyPF_"
      },
      "source": [
        "import requests\n",
        "from tqdm import tqdm\n",
        "from bs4 import BeautifulSoup\n",
        "from fake_useragent import UserAgent\n",
        "from nltk import word_tokenize\n",
        "from pymorphy2 import MorphAnalyzer\n",
        "morph = MorphAnalyzer()\n",
        "\n",
        "import pandas as pd\n",
        "\n",
        "import numpy as np\n",
        "\n",
        "ua = UserAgent(verify_ssl=False)\n",
        "session = requests.session()"
      ],
      "execution_count": null,
      "outputs": []
    },
    {
      "cell_type": "markdown",
      "metadata": {
        "id": "oFglkZ90yPGI"
      },
      "source": [
        "Ячейка для обкачивания ссылок на новости с сайта гордой газеты Московский комсомолец, а точнее, ее раздела \"проишествия\""
      ]
    },
    {
      "cell_type": "code",
      "metadata": {
        "id": "peB6gLQByPGJ",
        "outputId": "22c7dc8d-d7f3-42ee-f4b0-32c423ec56a7"
      },
      "source": [
        "news = []\n",
        "page_number = 0\n",
        "for i in tqdm(range(4)):\n",
        "    page_number += 1\n",
        "    url = f'https://www.mk.ru/incident/{page_number}/'\n",
        "    req = session.get(url, headers={'User-Agent': ua.random})\n",
        "    print(req)\n",
        "    req.encoding = 'utf-8'\n",
        "    page = req.text\n",
        "    soup = BeautifulSoup(page, 'html.parser')\n",
        "    each_news = soup.find_all('div', {'class': 'listing-item__content'})\n",
        "    if each_news:\n",
        "        print(len(each_news))\n",
        "    for one_piece in each_news:\n",
        "        link = one_piece.find('a', {'class': 'listing-preview__content'}).attrs['href']\n",
        "        news.append(link)"
      ],
      "execution_count": null,
      "outputs": [
        {
          "output_type": "stream",
          "text": [
            " 25%|█████████████████████                                                               | 1/4 [00:00<00:01,  2.48it/s]"
          ],
          "name": "stderr"
        },
        {
          "output_type": "stream",
          "text": [
            "<Response [200]>\n",
            "30\n"
          ],
          "name": "stdout"
        },
        {
          "output_type": "stream",
          "text": [
            " 50%|██████████████████████████████████████████                                          | 2/4 [00:00<00:00,  2.53it/s]"
          ],
          "name": "stderr"
        },
        {
          "output_type": "stream",
          "text": [
            "<Response [200]>\n",
            "30\n"
          ],
          "name": "stdout"
        },
        {
          "output_type": "stream",
          "text": [
            " 75%|███████████████████████████████████████████████████████████████                     | 3/4 [00:01<00:00,  2.29it/s]"
          ],
          "name": "stderr"
        },
        {
          "output_type": "stream",
          "text": [
            "<Response [200]>\n",
            "30\n"
          ],
          "name": "stdout"
        },
        {
          "output_type": "stream",
          "text": [
            "100%|████████████████████████████████████████████████████████████████████████████████████| 4/4 [00:01<00:00,  2.36it/s]"
          ],
          "name": "stderr"
        },
        {
          "output_type": "stream",
          "text": [
            "<Response [200]>\n",
            "30\n"
          ],
          "name": "stdout"
        },
        {
          "output_type": "stream",
          "text": [
            "\n"
          ],
          "name": "stderr"
        }
      ]
    },
    {
      "cell_type": "code",
      "metadata": {
        "id": "Kz34pugcyPGO",
        "outputId": "cedd8624-fbeb-49fa-e2ae-a77508956c62"
      },
      "source": [
        "print(len(news))"
      ],
      "execution_count": null,
      "outputs": [
        {
          "output_type": "stream",
          "text": [
            "120\n"
          ],
          "name": "stdout"
        }
      ]
    },
    {
      "cell_type": "markdown",
      "metadata": {
        "id": "0O6QMEFcyPGW"
      },
      "source": [
        "Глянем, наберется ли в каждой из этой сотни новостей нужное количество слов, заодно посмотрим, что там происходит"
      ]
    },
    {
      "cell_type": "code",
      "metadata": {
        "id": "jOou5_ZvyPGY",
        "outputId": "bdf0d21c-7c2e-4dae-b81e-f8c950391cad"
      },
      "source": [
        "link = news[10]\n",
        "req = session.get(link, headers={'User-Agent': ua.random})\n",
        "req.encoding = 'utf-8'\n",
        "req = req.text\n",
        "req = BeautifulSoup(req, 'html.parser')\n",
        "new_text = req.find('div', {'class': \"article__body\"}) #.text.lower()\n",
        "#print(new_text)\n",
        "new_text = new_text.find_all('p') #.text.lower()\n",
        "print(new_text)"
      ],
      "execution_count": null,
      "outputs": [
        {
          "output_type": "stream",
          "text": [
            "[<p>Мать пострадавших по профессии повар, отец - дворник, оба приехали из Киргизии. «Двушку» на Зеленом проспекте они сняли год назад. Когда началась пандемия, мужчина потерял большую часть заработка, поэтому платить аренду стало тяжело. На семейном совете было решено сдать одну комнату какому-нибудь земляку.  </p>, <p>В начале сентября нашелся приезжий из Ошской области. Мужчина заявил, что он аниматор и что к нему скоро приедет жена с ребенком. Позже выяснилось, что он придумал эту историю - на самом деле он одинок.</p>, <p>Об ужасной ситуации 29-летняя мать девочек 6 и 7 лет от роду узнала совершенно случайно - 19 октября во время заучивания с детьми стихов. Старшая девочка, увидев соседа по квартире, вышедшего из комнаты в туалет, внезапно замкнулась и стала в волнении грызть ногти, заявив, что боится этого дядю. Женщина поинтересовалась происходящим, но девочка не ответила. </p>, <p>А вторая дочка, более открытая по характеру, как на духу выложила неприятные подробности. Она рассказала, как во время школьных каникул в октябре мужчина производил с ними развратные действия. В семье растет еще третья  девочка (ей 4,5 года) — ее извращенец не трогал. </p>, <p>Приставать к детям квартирант начал в начале октября, когда начались школьные каникулы. Он делал это днем, когда их отец выходил в магазин за продуктами, а мать была на работе. </p>, <p>Насильника задержали в доме на 2-ой Владимирской улице. При виде сотрудников полиции негодяй попытался подойти к окну, но путь преградили. После проведения следственных действий в здании СУ на Преображенской площади мужчина отпросился в туалет и снова попытался сбежать через окно. Он был госпитализирован с тупой травмой живота.</p>, <p>Мать малышек старается не обсуждать случившееся с дочками в надежде, что они забудут о об этом.</p>]\n"
          ],
          "name": "stdout"
        }
      ]
    },
    {
      "cell_type": "markdown",
      "metadata": {
        "id": "98S_wtM9yPGj"
      },
      "source": [
        "Что и ожидалось от раздела Проишествия. Но тут точно есть сто слов!"
      ]
    },
    {
      "cell_type": "markdown",
      "metadata": {
        "id": "dilzd7P6yPGl"
      },
      "source": [
        "Пойдем используем собранный список ссылок и обкачаем сайт нормально"
      ]
    },
    {
      "cell_type": "code",
      "metadata": {
        "id": "dymJM6kzyPGm"
      },
      "source": [
        "def get_full_news(link_list):\n",
        "    texts = []\n",
        "    titles = []\n",
        "    for link in tqdm(link_list):\n",
        "        news = []\n",
        "        req = session.get(link, headers={'User-Agent': ua.random})\n",
        "        req.encoding = 'utf-8'\n",
        "        req = req.text\n",
        "        req = BeautifulSoup(req, 'html.parser')\n",
        "        title = req.find('h1', {'class': \"article__title\"})\n",
        "        titles.append(title)\n",
        "        new_text = req.find('div', {'class': \"article__body\"})\n",
        "        new_text = new_text.find_all('p')\n",
        "        for p in new_text:\n",
        "            p = p.text\n",
        "            news.append(p)\n",
        "        texts.append(news)\n",
        "    return titles, texts"
      ],
      "execution_count": null,
      "outputs": []
    },
    {
      "cell_type": "code",
      "metadata": {
        "id": "xvA5zXNCyPGr",
        "outputId": "9f421af8-fd26-41cd-959a-066715c9a9c7"
      },
      "source": [
        "titles, texts = get_full_news(news)\n",
        "if len(texts)==len(titles):\n",
        "    print('all clear!')"
      ],
      "execution_count": null,
      "outputs": [
        {
          "output_type": "stream",
          "text": [
            "100%|████████████████████████████████████████████████████████████████████████████████| 120/120 [00:34<00:00,  3.51it/s]"
          ],
          "name": "stderr"
        },
        {
          "output_type": "stream",
          "text": [
            "all clear!\n"
          ],
          "name": "stdout"
        },
        {
          "output_type": "stream",
          "text": [
            "\n"
          ],
          "name": "stderr"
        }
      ]
    },
    {
      "cell_type": "markdown",
      "metadata": {
        "id": "gFmAhRmvyPGx"
      },
      "source": [
        "Ячейка для предобработки. Не удивляйтесь, почему я тут токенизирую, а потом передумываю - так надо, такой датафрейм специфический"
      ]
    },
    {
      "cell_type": "code",
      "metadata": {
        "id": "FeqzwnXryPGz"
      },
      "source": [
        "def texts_process(texts):\n",
        "    new_texts = []\n",
        "    for text in texts:\n",
        "        new_text = ''\n",
        "        for paragraph in text:\n",
        "            if not paragraph.startswith('\\n') and not paragraph.startswith('Читайте также:'):\n",
        "                new_text = new_text + paragraph +' '\n",
        "                \n",
        "        new_text = word_tokenize(new_text)\n",
        "        new_text = ' '.join(new_text)\n",
        "        new_texts.append(new_text)\n",
        "    return new_texts"
      ],
      "execution_count": null,
      "outputs": []
    },
    {
      "cell_type": "markdown",
      "metadata": {
        "id": "KDWmR8qnyPG4"
      },
      "source": [
        "К заголовкам у нас не будет особых требований, мы по ним просто ориентируемся, так что просто сделаем служебную скучную функцию с непонятными переменными, чтобы преобразовывать их из типа Тег в тип Строка"
      ]
    },
    {
      "cell_type": "code",
      "metadata": {
        "id": "yd2PWcTbyPG4"
      },
      "source": [
        "def title_process(texts):\n",
        "    new_texts = []\n",
        "    for text in texts:\n",
        "        text = text.text\n",
        "        new_texts.append(text)\n",
        "    return new_texts"
      ],
      "execution_count": null,
      "outputs": []
    },
    {
      "cell_type": "markdown",
      "metadata": {
        "id": "KGka44MlyPG-"
      },
      "source": [
        "Обработаем данные и соберем в наш первый датафрейм"
      ]
    },
    {
      "cell_type": "code",
      "metadata": {
        "id": "J4xRnh3xyPG_",
        "outputId": "1b9e27bf-189a-4749-b14a-28a79dcffd7f"
      },
      "source": [
        "clear_texts = texts_process(texts)\n",
        "clear_titles = title_process(titles)\n",
        "df = pd.DataFrame(list(zip(clear_titles, clear_texts)), \n",
        "               columns =['titles', 'full_texts']) \n",
        "df"
      ],
      "execution_count": null,
      "outputs": [
        {
          "output_type": "execute_result",
          "data": {
            "text/html": [
              "<div>\n",
              "<style scoped>\n",
              "    .dataframe tbody tr th:only-of-type {\n",
              "        vertical-align: middle;\n",
              "    }\n",
              "\n",
              "    .dataframe tbody tr th {\n",
              "        vertical-align: top;\n",
              "    }\n",
              "\n",
              "    .dataframe thead th {\n",
              "        text-align: right;\n",
              "    }\n",
              "</style>\n",
              "<table border=\"1\" class=\"dataframe\">\n",
              "  <thead>\n",
              "    <tr style=\"text-align: right;\">\n",
              "      <th></th>\n",
              "      <th>titles</th>\n",
              "      <th>full_texts</th>\n",
              "    </tr>\n",
              "  </thead>\n",
              "  <tbody>\n",
              "    <tr>\n",
              "      <th>0</th>\n",
              "      <td>Раскрыта тайна препарата в организме утонувшей...</td>\n",
              "      <td>Напомним , 23-го сентября вечером дочь артиста...</td>\n",
              "    </tr>\n",
              "    <tr>\n",
              "      <th>1</th>\n",
              "      <td>Девочка сбежала от матери, делавшей из нее рабыню</td>\n",
              "      <td>Наверное , у каждого были прадедушки и прабабу...</td>\n",
              "    </tr>\n",
              "    <tr>\n",
              "      <th>2</th>\n",
              "      <td>Медбрат украл аппарат УЗИ у больных коронавирусом</td>\n",
              "      <td>Как стало известно « МК » , пропажу аппарата У...</td>\n",
              "    </tr>\n",
              "    <tr>\n",
              "      <th>3</th>\n",
              "      <td>Составлен рейтинг мошенничеств с коронавирусом</td>\n",
              "      <td>Лже-медики . Облапошивание начинается со звонк...</td>\n",
              "    </tr>\n",
              "    <tr>\n",
              "      <th>4</th>\n",
              "      <td>Приговор обрадовал депутата-коммуниста Шеремет...</td>\n",
              "      <td>Ранее в ходе прений прокурор потребовал для Ше...</td>\n",
              "    </tr>\n",
              "    <tr>\n",
              "      <th>...</th>\n",
              "      <td>...</td>\n",
              "      <td>...</td>\n",
              "    </tr>\n",
              "    <tr>\n",
              "      <th>115</th>\n",
              "      <td>Подросток умер во время вечеринки на юго-запад...</td>\n",
              "      <td>Как стало известно « МК » , инцидент произошел...</td>\n",
              "    </tr>\n",
              "    <tr>\n",
              "      <th>116</th>\n",
              "      <td>Российский полицейский убил любовницу-трансген...</td>\n",
              "      <td>По информации издания , поначалу мужчина пытал...</td>\n",
              "    </tr>\n",
              "    <tr>\n",
              "      <th>117</th>\n",
              "      <td>Студент МГИМО покончил с собой из-за сессии</td>\n",
              "      <td>По информации агентства , его тело обнаружили ...</td>\n",
              "    </tr>\n",
              "    <tr>\n",
              "      <th>118</th>\n",
              "      <td>Рабочего-расчленителя задержали в Петербурге</td>\n",
              "      <td>По версии следственных органов , 5 сентября ме...</td>\n",
              "    </tr>\n",
              "    <tr>\n",
              "      <th>119</th>\n",
              "      <td>Футболисты забили до смерти одноклубника из-за...</td>\n",
              "      <td>Как пишет Daily Monitor , причиной расправы ст...</td>\n",
              "    </tr>\n",
              "  </tbody>\n",
              "</table>\n",
              "<p>120 rows × 2 columns</p>\n",
              "</div>"
            ],
            "text/plain": [
              "                                                titles  \\\n",
              "0    Раскрыта тайна препарата в организме утонувшей...   \n",
              "1    Девочка сбежала от матери, делавшей из нее рабыню   \n",
              "2    Медбрат украл аппарат УЗИ у больных коронавирусом   \n",
              "3       Составлен рейтинг мошенничеств с коронавирусом   \n",
              "4    Приговор обрадовал депутата-коммуниста Шеремет...   \n",
              "..                                                 ...   \n",
              "115  Подросток умер во время вечеринки на юго-запад...   \n",
              "116  Российский полицейский убил любовницу-трансген...   \n",
              "117        Студент МГИМО покончил с собой из-за сессии   \n",
              "118       Рабочего-расчленителя задержали в Петербурге   \n",
              "119  Футболисты забили до смерти одноклубника из-за...   \n",
              "\n",
              "                                            full_texts  \n",
              "0    Напомним , 23-го сентября вечером дочь артиста...  \n",
              "1    Наверное , у каждого были прадедушки и прабабу...  \n",
              "2    Как стало известно « МК » , пропажу аппарата У...  \n",
              "3    Лже-медики . Облапошивание начинается со звонк...  \n",
              "4    Ранее в ходе прений прокурор потребовал для Ше...  \n",
              "..                                                 ...  \n",
              "115  Как стало известно « МК » , инцидент произошел...  \n",
              "116  По информации издания , поначалу мужчина пытал...  \n",
              "117  По информации агентства , его тело обнаружили ...  \n",
              "118  По версии следственных органов , 5 сентября ме...  \n",
              "119  Как пишет Daily Monitor , причиной расправы ст...  \n",
              "\n",
              "[120 rows x 2 columns]"
            ]
          },
          "metadata": {
            "tags": []
          },
          "execution_count": 15
        }
      ]
    },
    {
      "cell_type": "markdown",
      "metadata": {
        "id": "IYp9JALoyPHE"
      },
      "source": [
        "Это здорово! Сохраним, на всякий случай"
      ]
    },
    {
      "cell_type": "code",
      "metadata": {
        "id": "4e_cNNxmyPHF"
      },
      "source": [
        "df.to_csv('textbase_news_articles.csv')"
      ],
      "execution_count": null,
      "outputs": []
    },
    {
      "cell_type": "markdown",
      "metadata": {
        "id": "K4x6tGzhyPHM"
      },
      "source": [
        "А вот сейчас веселье и пойдет. Эта функция служит для того, чтобы разделить полные тексты по предложениям с созданием новой строки датафрейма, у которой будет идентичный заголовок"
      ]
    },
    {
      "cell_type": "code",
      "metadata": {
        "id": "XoSnBjxHyPHN"
      },
      "source": [
        "lst_col = 'full_texts' \n",
        "\n",
        "x = df.assign(**{lst_col:df[lst_col].str.split('.')})\n",
        "\n",
        "my_dataframe = pd.DataFrame({col:np.repeat(x[col].values, x[lst_col].str.len()) for col in x.columns.difference([lst_col])}).assign(**{lst_col:np.concatenate(x[lst_col].values)})[x.columns.tolist()]"
      ],
      "execution_count": null,
      "outputs": []
    },
    {
      "cell_type": "code",
      "metadata": {
        "id": "U2x9fWFiyPHX",
        "outputId": "1ab10133-3931-4ca6-8fa7-ab8735705d2f"
      },
      "source": [
        "my_dataframe"
      ],
      "execution_count": null,
      "outputs": [
        {
          "output_type": "execute_result",
          "data": {
            "text/html": [
              "<div>\n",
              "<style scoped>\n",
              "    .dataframe tbody tr th:only-of-type {\n",
              "        vertical-align: middle;\n",
              "    }\n",
              "\n",
              "    .dataframe tbody tr th {\n",
              "        vertical-align: top;\n",
              "    }\n",
              "\n",
              "    .dataframe thead th {\n",
              "        text-align: right;\n",
              "    }\n",
              "</style>\n",
              "<table border=\"1\" class=\"dataframe\">\n",
              "  <thead>\n",
              "    <tr style=\"text-align: right;\">\n",
              "      <th></th>\n",
              "      <th>titles</th>\n",
              "      <th>full_texts</th>\n",
              "    </tr>\n",
              "  </thead>\n",
              "  <tbody>\n",
              "    <tr>\n",
              "      <th>0</th>\n",
              "      <td>Раскрыта тайна препарата в организме утонувшей...</td>\n",
              "      <td>Напомним , 23-го сентября вечером дочь артиста...</td>\n",
              "    </tr>\n",
              "    <tr>\n",
              "      <th>1</th>\n",
              "      <td>Раскрыта тайна препарата в организме утонувшей...</td>\n",
              "      <td>Девушка сразу направилась в бассейн , где око...</td>\n",
              "    </tr>\n",
              "    <tr>\n",
              "      <th>2</th>\n",
              "      <td>Раскрыта тайна препарата в организме утонувшей...</td>\n",
              "      <td>В бессознательном состоянии Софию вытащили из...</td>\n",
              "    </tr>\n",
              "    <tr>\n",
              "      <th>3</th>\n",
              "      <td>Раскрыта тайна препарата в организме утонувшей...</td>\n",
              "      <td>Смерть дочери знаменитого актера получила шир...</td>\n",
              "    </tr>\n",
              "    <tr>\n",
              "      <th>4</th>\n",
              "      <td>Раскрыта тайна препарата в организме утонувшей...</td>\n",
              "      <td>Например , у родственников погибшей возникли ...</td>\n",
              "    </tr>\n",
              "    <tr>\n",
              "      <th>...</th>\n",
              "      <td>...</td>\n",
              "      <td>...</td>\n",
              "    </tr>\n",
              "    <tr>\n",
              "      <th>2461</th>\n",
              "      <td>Футболисты забили до смерти одноклубника из-за...</td>\n",
              "      <td>Игрока доставили в больницу , где он умер спу...</td>\n",
              "    </tr>\n",
              "    <tr>\n",
              "      <th>2462</th>\n",
              "      <td>Футболисты забили до смерти одноклубника из-за...</td>\n",
              "      <td>Полиция начало расследование</td>\n",
              "    </tr>\n",
              "    <tr>\n",
              "      <th>2463</th>\n",
              "      <td>Футболисты забили до смерти одноклубника из-за...</td>\n",
              "      <td>Отмечается , что матч между командами носил т...</td>\n",
              "    </tr>\n",
              "    <tr>\n",
              "      <th>2464</th>\n",
              "      <td>Футболисты забили до смерти одноклубника из-за...</td>\n",
              "      <td>Ранее сообщалось , что во время футбольного м...</td>\n",
              "    </tr>\n",
              "    <tr>\n",
              "      <th>2465</th>\n",
              "      <td>Футболисты забили до смерти одноклубника из-за...</td>\n",
              "      <td></td>\n",
              "    </tr>\n",
              "  </tbody>\n",
              "</table>\n",
              "<p>2466 rows × 2 columns</p>\n",
              "</div>"
            ],
            "text/plain": [
              "                                                 titles  \\\n",
              "0     Раскрыта тайна препарата в организме утонувшей...   \n",
              "1     Раскрыта тайна препарата в организме утонувшей...   \n",
              "2     Раскрыта тайна препарата в организме утонувшей...   \n",
              "3     Раскрыта тайна препарата в организме утонувшей...   \n",
              "4     Раскрыта тайна препарата в организме утонувшей...   \n",
              "...                                                 ...   \n",
              "2461  Футболисты забили до смерти одноклубника из-за...   \n",
              "2462  Футболисты забили до смерти одноклубника из-за...   \n",
              "2463  Футболисты забили до смерти одноклубника из-за...   \n",
              "2464  Футболисты забили до смерти одноклубника из-за...   \n",
              "2465  Футболисты забили до смерти одноклубника из-за...   \n",
              "\n",
              "                                             full_texts  \n",
              "0     Напомним , 23-го сентября вечером дочь артиста...  \n",
              "1      Девушка сразу направилась в бассейн , где око...  \n",
              "2      В бессознательном состоянии Софию вытащили из...  \n",
              "3      Смерть дочери знаменитого актера получила шир...  \n",
              "4      Например , у родственников погибшей возникли ...  \n",
              "...                                                 ...  \n",
              "2461   Игрока доставили в больницу , где он умер спу...  \n",
              "2462                      Полиция начало расследование   \n",
              "2463   Отмечается , что матч между командами носил т...  \n",
              "2464   Ранее сообщалось , что во время футбольного м...  \n",
              "2465                                                     \n",
              "\n",
              "[2466 rows x 2 columns]"
            ]
          },
          "metadata": {
            "tags": []
          },
          "execution_count": 18
        }
      ]
    },
    {
      "cell_type": "markdown",
      "metadata": {
        "id": "XLczVP6ZyPHe"
      },
      "source": [
        "Она работает! То же самое, только делим предложения на слова с созданием новых строк - но с теми же заголовками и предложениями"
      ]
    },
    {
      "cell_type": "code",
      "metadata": {
        "id": "JoFSZ35fyPHf"
      },
      "source": [
        "my_dataframe['words'] = my_dataframe['full_texts']\n",
        "lst_col = 'words' \n",
        "\n",
        "x = my_dataframe.assign(**{lst_col:my_dataframe[lst_col].str.split(' ')})\n",
        "\n",
        "my_final_dataframe = pd.DataFrame({col:np.repeat(x[col].values, x[lst_col].str.len()) for col in x.columns.difference([lst_col])}).assign(**{lst_col:np.concatenate(x[lst_col].values)})[x.columns.tolist()]"
      ],
      "execution_count": null,
      "outputs": []
    },
    {
      "cell_type": "code",
      "metadata": {
        "id": "OT7eg4d1yPHj",
        "outputId": "a0424f26-27ee-42e8-bbd0-3e40a0a07ae3"
      },
      "source": [
        "my_final_dataframe"
      ],
      "execution_count": null,
      "outputs": [
        {
          "output_type": "execute_result",
          "data": {
            "text/html": [
              "<div>\n",
              "<style scoped>\n",
              "    .dataframe tbody tr th:only-of-type {\n",
              "        vertical-align: middle;\n",
              "    }\n",
              "\n",
              "    .dataframe tbody tr th {\n",
              "        vertical-align: top;\n",
              "    }\n",
              "\n",
              "    .dataframe thead th {\n",
              "        text-align: right;\n",
              "    }\n",
              "</style>\n",
              "<table border=\"1\" class=\"dataframe\">\n",
              "  <thead>\n",
              "    <tr style=\"text-align: right;\">\n",
              "      <th></th>\n",
              "      <th>titles</th>\n",
              "      <th>full_texts</th>\n",
              "      <th>words</th>\n",
              "    </tr>\n",
              "  </thead>\n",
              "  <tbody>\n",
              "    <tr>\n",
              "      <th>0</th>\n",
              "      <td>Раскрыта тайна препарата в организме утонувшей...</td>\n",
              "      <td>Напомним , 23-го сентября вечером дочь артиста...</td>\n",
              "      <td>Напомним</td>\n",
              "    </tr>\n",
              "    <tr>\n",
              "      <th>1</th>\n",
              "      <td>Раскрыта тайна препарата в организме утонувшей...</td>\n",
              "      <td>Напомним , 23-го сентября вечером дочь артиста...</td>\n",
              "      <td>,</td>\n",
              "    </tr>\n",
              "    <tr>\n",
              "      <th>2</th>\n",
              "      <td>Раскрыта тайна препарата в организме утонувшей...</td>\n",
              "      <td>Напомним , 23-го сентября вечером дочь артиста...</td>\n",
              "      <td>23-го</td>\n",
              "    </tr>\n",
              "    <tr>\n",
              "      <th>3</th>\n",
              "      <td>Раскрыта тайна препарата в организме утонувшей...</td>\n",
              "      <td>Напомним , 23-го сентября вечером дочь артиста...</td>\n",
              "      <td>сентября</td>\n",
              "    </tr>\n",
              "    <tr>\n",
              "      <th>4</th>\n",
              "      <td>Раскрыта тайна препарата в организме утонувшей...</td>\n",
              "      <td>Напомним , 23-го сентября вечером дочь артиста...</td>\n",
              "      <td>вечером</td>\n",
              "    </tr>\n",
              "    <tr>\n",
              "      <th>...</th>\n",
              "      <td>...</td>\n",
              "      <td>...</td>\n",
              "      <td>...</td>\n",
              "    </tr>\n",
              "    <tr>\n",
              "      <th>42672</th>\n",
              "      <td>Футболисты забили до смерти одноклубника из-за...</td>\n",
              "      <td>Ранее сообщалось , что во время футбольного м...</td>\n",
              "      <td>убила</td>\n",
              "    </tr>\n",
              "    <tr>\n",
              "      <th>42673</th>\n",
              "      <td>Футболисты забили до смерти одноклубника из-за...</td>\n",
              "      <td>Ранее сообщалось , что во время футбольного м...</td>\n",
              "      <td>10</td>\n",
              "    </tr>\n",
              "    <tr>\n",
              "      <th>42674</th>\n",
              "      <td>Футболисты забили до смерти одноклубника из-за...</td>\n",
              "      <td>Ранее сообщалось , что во время футбольного м...</td>\n",
              "      <td>игроков</td>\n",
              "    </tr>\n",
              "    <tr>\n",
              "      <th>42675</th>\n",
              "      <td>Футболисты забили до смерти одноклубника из-за...</td>\n",
              "      <td>Ранее сообщалось , что во время футбольного м...</td>\n",
              "      <td></td>\n",
              "    </tr>\n",
              "    <tr>\n",
              "      <th>42676</th>\n",
              "      <td>Футболисты забили до смерти одноклубника из-за...</td>\n",
              "      <td></td>\n",
              "      <td></td>\n",
              "    </tr>\n",
              "  </tbody>\n",
              "</table>\n",
              "<p>42677 rows × 3 columns</p>\n",
              "</div>"
            ],
            "text/plain": [
              "                                                  titles  \\\n",
              "0      Раскрыта тайна препарата в организме утонувшей...   \n",
              "1      Раскрыта тайна препарата в организме утонувшей...   \n",
              "2      Раскрыта тайна препарата в организме утонувшей...   \n",
              "3      Раскрыта тайна препарата в организме утонувшей...   \n",
              "4      Раскрыта тайна препарата в организме утонувшей...   \n",
              "...                                                  ...   \n",
              "42672  Футболисты забили до смерти одноклубника из-за...   \n",
              "42673  Футболисты забили до смерти одноклубника из-за...   \n",
              "42674  Футболисты забили до смерти одноклубника из-за...   \n",
              "42675  Футболисты забили до смерти одноклубника из-за...   \n",
              "42676  Футболисты забили до смерти одноклубника из-за...   \n",
              "\n",
              "                                              full_texts     words  \n",
              "0      Напомним , 23-го сентября вечером дочь артиста...  Напомним  \n",
              "1      Напомним , 23-го сентября вечером дочь артиста...         ,  \n",
              "2      Напомним , 23-го сентября вечером дочь артиста...     23-го  \n",
              "3      Напомним , 23-го сентября вечером дочь артиста...  сентября  \n",
              "4      Напомним , 23-го сентября вечером дочь артиста...   вечером  \n",
              "...                                                  ...       ...  \n",
              "42672   Ранее сообщалось , что во время футбольного м...     убила  \n",
              "42673   Ранее сообщалось , что во время футбольного м...        10  \n",
              "42674   Ранее сообщалось , что во время футбольного м...   игроков  \n",
              "42675   Ранее сообщалось , что во время футбольного м...            \n",
              "42676                                                               \n",
              "\n",
              "[42677 rows x 3 columns]"
            ]
          },
          "metadata": {
            "tags": []
          },
          "execution_count": 20
        }
      ]
    },
    {
      "cell_type": "markdown",
      "metadata": {
        "id": "G1xMte9KyPHn"
      },
      "source": [
        "Чудно. Стаковерфлоу творит чудеса. Скормим эти чудеса пайморфи и создадим для важной нам выдачи еще три столбца"
      ]
    },
    {
      "cell_type": "code",
      "metadata": {
        "id": "y6bvvRfwyPHo"
      },
      "source": [
        "my_final_dataframe['lemma'] = my_final_dataframe.apply(lambda row: morph.parse(row.words)[0].normal_form, axis = 1)\n",
        "my_final_dataframe['form'] = my_final_dataframe.apply(lambda row: morph.parse(row.words)[0].tag, axis = 1)\n",
        "my_final_dataframe['POS'] = my_final_dataframe.apply(lambda row: morph.parse(row.words)[0].tag.POS, axis = 1)"
      ],
      "execution_count": null,
      "outputs": []
    },
    {
      "cell_type": "code",
      "metadata": {
        "id": "H62Y77tVyPHt",
        "outputId": "6b5d5db9-a93c-4f9a-f8a8-62fe9e3d60b2"
      },
      "source": [
        "my_final_dataframe"
      ],
      "execution_count": null,
      "outputs": [
        {
          "output_type": "execute_result",
          "data": {
            "text/html": [
              "<div>\n",
              "<style scoped>\n",
              "    .dataframe tbody tr th:only-of-type {\n",
              "        vertical-align: middle;\n",
              "    }\n",
              "\n",
              "    .dataframe tbody tr th {\n",
              "        vertical-align: top;\n",
              "    }\n",
              "\n",
              "    .dataframe thead th {\n",
              "        text-align: right;\n",
              "    }\n",
              "</style>\n",
              "<table border=\"1\" class=\"dataframe\">\n",
              "  <thead>\n",
              "    <tr style=\"text-align: right;\">\n",
              "      <th></th>\n",
              "      <th>titles</th>\n",
              "      <th>full_texts</th>\n",
              "      <th>words</th>\n",
              "      <th>lemma</th>\n",
              "      <th>form</th>\n",
              "      <th>POS</th>\n",
              "    </tr>\n",
              "  </thead>\n",
              "  <tbody>\n",
              "    <tr>\n",
              "      <th>0</th>\n",
              "      <td>Раскрыта тайна препарата в организме утонувшей...</td>\n",
              "      <td>Напомним , 23-го сентября вечером дочь артиста...</td>\n",
              "      <td>Напомним</td>\n",
              "      <td>напомнить</td>\n",
              "      <td>VERB,perf,tran plur,1per,futr,indc</td>\n",
              "      <td>VERB</td>\n",
              "    </tr>\n",
              "    <tr>\n",
              "      <th>1</th>\n",
              "      <td>Раскрыта тайна препарата в организме утонувшей...</td>\n",
              "      <td>Напомним , 23-го сентября вечером дочь артиста...</td>\n",
              "      <td>,</td>\n",
              "      <td>,</td>\n",
              "      <td>PNCT</td>\n",
              "      <td>None</td>\n",
              "    </tr>\n",
              "    <tr>\n",
              "      <th>2</th>\n",
              "      <td>Раскрыта тайна препарата в организме утонувшей...</td>\n",
              "      <td>Напомним , 23-го сентября вечером дочь артиста...</td>\n",
              "      <td>23-го</td>\n",
              "      <td>23-го</td>\n",
              "      <td>NOUN,inan,neut,Fixd sing,nomn</td>\n",
              "      <td>NOUN</td>\n",
              "    </tr>\n",
              "    <tr>\n",
              "      <th>3</th>\n",
              "      <td>Раскрыта тайна препарата в организме утонувшей...</td>\n",
              "      <td>Напомним , 23-го сентября вечером дочь артиста...</td>\n",
              "      <td>сентября</td>\n",
              "      <td>сентябрь</td>\n",
              "      <td>NOUN,inan,masc sing,gent</td>\n",
              "      <td>NOUN</td>\n",
              "    </tr>\n",
              "    <tr>\n",
              "      <th>4</th>\n",
              "      <td>Раскрыта тайна препарата в организме утонувшей...</td>\n",
              "      <td>Напомним , 23-го сентября вечером дочь артиста...</td>\n",
              "      <td>вечером</td>\n",
              "      <td>вечером</td>\n",
              "      <td>ADVB</td>\n",
              "      <td>ADVB</td>\n",
              "    </tr>\n",
              "    <tr>\n",
              "      <th>...</th>\n",
              "      <td>...</td>\n",
              "      <td>...</td>\n",
              "      <td>...</td>\n",
              "      <td>...</td>\n",
              "      <td>...</td>\n",
              "      <td>...</td>\n",
              "    </tr>\n",
              "    <tr>\n",
              "      <th>42672</th>\n",
              "      <td>Футболисты забили до смерти одноклубника из-за...</td>\n",
              "      <td>Ранее сообщалось , что во время футбольного м...</td>\n",
              "      <td>убила</td>\n",
              "      <td>убить</td>\n",
              "      <td>VERB,perf,tran femn,sing,past,indc</td>\n",
              "      <td>VERB</td>\n",
              "    </tr>\n",
              "    <tr>\n",
              "      <th>42673</th>\n",
              "      <td>Футболисты забили до смерти одноклубника из-за...</td>\n",
              "      <td>Ранее сообщалось , что во время футбольного м...</td>\n",
              "      <td>10</td>\n",
              "      <td>10</td>\n",
              "      <td>NUMB,intg</td>\n",
              "      <td>None</td>\n",
              "    </tr>\n",
              "    <tr>\n",
              "      <th>42674</th>\n",
              "      <td>Футболисты забили до смерти одноклубника из-за...</td>\n",
              "      <td>Ранее сообщалось , что во время футбольного м...</td>\n",
              "      <td>игроков</td>\n",
              "      <td>игрок</td>\n",
              "      <td>NOUN,anim,masc plur,gent</td>\n",
              "      <td>NOUN</td>\n",
              "    </tr>\n",
              "    <tr>\n",
              "      <th>42675</th>\n",
              "      <td>Футболисты забили до смерти одноклубника из-за...</td>\n",
              "      <td>Ранее сообщалось , что во время футбольного м...</td>\n",
              "      <td></td>\n",
              "      <td></td>\n",
              "      <td>UNKN</td>\n",
              "      <td>None</td>\n",
              "    </tr>\n",
              "    <tr>\n",
              "      <th>42676</th>\n",
              "      <td>Футболисты забили до смерти одноклубника из-за...</td>\n",
              "      <td></td>\n",
              "      <td></td>\n",
              "      <td></td>\n",
              "      <td>UNKN</td>\n",
              "      <td>None</td>\n",
              "    </tr>\n",
              "  </tbody>\n",
              "</table>\n",
              "<p>42677 rows × 6 columns</p>\n",
              "</div>"
            ],
            "text/plain": [
              "                                                  titles  \\\n",
              "0      Раскрыта тайна препарата в организме утонувшей...   \n",
              "1      Раскрыта тайна препарата в организме утонувшей...   \n",
              "2      Раскрыта тайна препарата в организме утонувшей...   \n",
              "3      Раскрыта тайна препарата в организме утонувшей...   \n",
              "4      Раскрыта тайна препарата в организме утонувшей...   \n",
              "...                                                  ...   \n",
              "42672  Футболисты забили до смерти одноклубника из-за...   \n",
              "42673  Футболисты забили до смерти одноклубника из-за...   \n",
              "42674  Футболисты забили до смерти одноклубника из-за...   \n",
              "42675  Футболисты забили до смерти одноклубника из-за...   \n",
              "42676  Футболисты забили до смерти одноклубника из-за...   \n",
              "\n",
              "                                              full_texts     words      lemma  \\\n",
              "0      Напомним , 23-го сентября вечером дочь артиста...  Напомним  напомнить   \n",
              "1      Напомним , 23-го сентября вечером дочь артиста...         ,          ,   \n",
              "2      Напомним , 23-го сентября вечером дочь артиста...     23-го      23-го   \n",
              "3      Напомним , 23-го сентября вечером дочь артиста...  сентября   сентябрь   \n",
              "4      Напомним , 23-го сентября вечером дочь артиста...   вечером    вечером   \n",
              "...                                                  ...       ...        ...   \n",
              "42672   Ранее сообщалось , что во время футбольного м...     убила      убить   \n",
              "42673   Ранее сообщалось , что во время футбольного м...        10         10   \n",
              "42674   Ранее сообщалось , что во время футбольного м...   игроков      игрок   \n",
              "42675   Ранее сообщалось , что во время футбольного м...                        \n",
              "42676                                                                           \n",
              "\n",
              "                                     form   POS  \n",
              "0      VERB,perf,tran plur,1per,futr,indc  VERB  \n",
              "1                                    PNCT  None  \n",
              "2           NOUN,inan,neut,Fixd sing,nomn  NOUN  \n",
              "3                NOUN,inan,masc sing,gent  NOUN  \n",
              "4                                    ADVB  ADVB  \n",
              "...                                   ...   ...  \n",
              "42672  VERB,perf,tran femn,sing,past,indc  VERB  \n",
              "42673                           NUMB,intg  None  \n",
              "42674            NOUN,anim,masc plur,gent  NOUN  \n",
              "42675                                UNKN  None  \n",
              "42676                                UNKN  None  \n",
              "\n",
              "[42677 rows x 6 columns]"
            ]
          },
          "metadata": {
            "tags": []
          },
          "execution_count": 22
        }
      ]
    },
    {
      "cell_type": "markdown",
      "metadata": {
        "id": "NPAlRFesyPHz"
      },
      "source": [
        "Казалось бы, все хорошо, но как же - у нас прорехи в датафрейме, помешают рядом стоящие слова замечать. Исправим."
      ]
    },
    {
      "cell_type": "code",
      "metadata": {
        "id": "QCqwa2kCyPH0"
      },
      "source": [
        "my_final_dataframe.drop(my_final_dataframe[my_final_dataframe.words == ''].index, inplace=True)"
      ],
      "execution_count": null,
      "outputs": []
    },
    {
      "cell_type": "code",
      "metadata": {
        "scrolled": false,
        "id": "DjocrjzkyPH5",
        "outputId": "5b5577ea-156d-464b-99b3-6f0e527d4e4e"
      },
      "source": [
        "my_final_dataframe"
      ],
      "execution_count": null,
      "outputs": [
        {
          "output_type": "execute_result",
          "data": {
            "text/html": [
              "<div>\n",
              "<style scoped>\n",
              "    .dataframe tbody tr th:only-of-type {\n",
              "        vertical-align: middle;\n",
              "    }\n",
              "\n",
              "    .dataframe tbody tr th {\n",
              "        vertical-align: top;\n",
              "    }\n",
              "\n",
              "    .dataframe thead th {\n",
              "        text-align: right;\n",
              "    }\n",
              "</style>\n",
              "<table border=\"1\" class=\"dataframe\">\n",
              "  <thead>\n",
              "    <tr style=\"text-align: right;\">\n",
              "      <th></th>\n",
              "      <th>titles</th>\n",
              "      <th>full_texts</th>\n",
              "      <th>words</th>\n",
              "      <th>lemma</th>\n",
              "      <th>form</th>\n",
              "      <th>POS</th>\n",
              "    </tr>\n",
              "  </thead>\n",
              "  <tbody>\n",
              "    <tr>\n",
              "      <th>0</th>\n",
              "      <td>Раскрыта тайна препарата в организме утонувшей...</td>\n",
              "      <td>Напомним , 23-го сентября вечером дочь артиста...</td>\n",
              "      <td>Напомним</td>\n",
              "      <td>напомнить</td>\n",
              "      <td>VERB,perf,tran plur,1per,futr,indc</td>\n",
              "      <td>VERB</td>\n",
              "    </tr>\n",
              "    <tr>\n",
              "      <th>1</th>\n",
              "      <td>Раскрыта тайна препарата в организме утонувшей...</td>\n",
              "      <td>Напомним , 23-го сентября вечером дочь артиста...</td>\n",
              "      <td>,</td>\n",
              "      <td>,</td>\n",
              "      <td>PNCT</td>\n",
              "      <td>None</td>\n",
              "    </tr>\n",
              "    <tr>\n",
              "      <th>2</th>\n",
              "      <td>Раскрыта тайна препарата в организме утонувшей...</td>\n",
              "      <td>Напомним , 23-го сентября вечером дочь артиста...</td>\n",
              "      <td>23-го</td>\n",
              "      <td>23-го</td>\n",
              "      <td>NOUN,inan,neut,Fixd sing,nomn</td>\n",
              "      <td>NOUN</td>\n",
              "    </tr>\n",
              "    <tr>\n",
              "      <th>3</th>\n",
              "      <td>Раскрыта тайна препарата в организме утонувшей...</td>\n",
              "      <td>Напомним , 23-го сентября вечером дочь артиста...</td>\n",
              "      <td>сентября</td>\n",
              "      <td>сентябрь</td>\n",
              "      <td>NOUN,inan,masc sing,gent</td>\n",
              "      <td>NOUN</td>\n",
              "    </tr>\n",
              "    <tr>\n",
              "      <th>4</th>\n",
              "      <td>Раскрыта тайна препарата в организме утонувшей...</td>\n",
              "      <td>Напомним , 23-го сентября вечером дочь артиста...</td>\n",
              "      <td>вечером</td>\n",
              "      <td>вечером</td>\n",
              "      <td>ADVB</td>\n",
              "      <td>ADVB</td>\n",
              "    </tr>\n",
              "    <tr>\n",
              "      <th>...</th>\n",
              "      <td>...</td>\n",
              "      <td>...</td>\n",
              "      <td>...</td>\n",
              "      <td>...</td>\n",
              "      <td>...</td>\n",
              "      <td>...</td>\n",
              "    </tr>\n",
              "    <tr>\n",
              "      <th>42670</th>\n",
              "      <td>Футболисты забили до смерти одноклубника из-за...</td>\n",
              "      <td>Ранее сообщалось , что во время футбольного м...</td>\n",
              "      <td>Уганде</td>\n",
              "      <td>уганда</td>\n",
              "      <td>NOUN,inan,femn,Sgtm,Geox sing,datv</td>\n",
              "      <td>NOUN</td>\n",
              "    </tr>\n",
              "    <tr>\n",
              "      <th>42671</th>\n",
              "      <td>Футболисты забили до смерти одноклубника из-за...</td>\n",
              "      <td>Ранее сообщалось , что во время футбольного м...</td>\n",
              "      <td>молния</td>\n",
              "      <td>молния</td>\n",
              "      <td>NOUN,inan,femn sing,nomn</td>\n",
              "      <td>NOUN</td>\n",
              "    </tr>\n",
              "    <tr>\n",
              "      <th>42672</th>\n",
              "      <td>Футболисты забили до смерти одноклубника из-за...</td>\n",
              "      <td>Ранее сообщалось , что во время футбольного м...</td>\n",
              "      <td>убила</td>\n",
              "      <td>убить</td>\n",
              "      <td>VERB,perf,tran femn,sing,past,indc</td>\n",
              "      <td>VERB</td>\n",
              "    </tr>\n",
              "    <tr>\n",
              "      <th>42673</th>\n",
              "      <td>Футболисты забили до смерти одноклубника из-за...</td>\n",
              "      <td>Ранее сообщалось , что во время футбольного м...</td>\n",
              "      <td>10</td>\n",
              "      <td>10</td>\n",
              "      <td>NUMB,intg</td>\n",
              "      <td>None</td>\n",
              "    </tr>\n",
              "    <tr>\n",
              "      <th>42674</th>\n",
              "      <td>Футболисты забили до смерти одноклубника из-за...</td>\n",
              "      <td>Ранее сообщалось , что во время футбольного м...</td>\n",
              "      <td>игроков</td>\n",
              "      <td>игрок</td>\n",
              "      <td>NOUN,anim,masc plur,gent</td>\n",
              "      <td>NOUN</td>\n",
              "    </tr>\n",
              "  </tbody>\n",
              "</table>\n",
              "<p>38084 rows × 6 columns</p>\n",
              "</div>"
            ],
            "text/plain": [
              "                                                  titles  \\\n",
              "0      Раскрыта тайна препарата в организме утонувшей...   \n",
              "1      Раскрыта тайна препарата в организме утонувшей...   \n",
              "2      Раскрыта тайна препарата в организме утонувшей...   \n",
              "3      Раскрыта тайна препарата в организме утонувшей...   \n",
              "4      Раскрыта тайна препарата в организме утонувшей...   \n",
              "...                                                  ...   \n",
              "42670  Футболисты забили до смерти одноклубника из-за...   \n",
              "42671  Футболисты забили до смерти одноклубника из-за...   \n",
              "42672  Футболисты забили до смерти одноклубника из-за...   \n",
              "42673  Футболисты забили до смерти одноклубника из-за...   \n",
              "42674  Футболисты забили до смерти одноклубника из-за...   \n",
              "\n",
              "                                              full_texts     words      lemma  \\\n",
              "0      Напомним , 23-го сентября вечером дочь артиста...  Напомним  напомнить   \n",
              "1      Напомним , 23-го сентября вечером дочь артиста...         ,          ,   \n",
              "2      Напомним , 23-го сентября вечером дочь артиста...     23-го      23-го   \n",
              "3      Напомним , 23-го сентября вечером дочь артиста...  сентября   сентябрь   \n",
              "4      Напомним , 23-го сентября вечером дочь артиста...   вечером    вечером   \n",
              "...                                                  ...       ...        ...   \n",
              "42670   Ранее сообщалось , что во время футбольного м...    Уганде     уганда   \n",
              "42671   Ранее сообщалось , что во время футбольного м...    молния     молния   \n",
              "42672   Ранее сообщалось , что во время футбольного м...     убила      убить   \n",
              "42673   Ранее сообщалось , что во время футбольного м...        10         10   \n",
              "42674   Ранее сообщалось , что во время футбольного м...   игроков      игрок   \n",
              "\n",
              "                                     form   POS  \n",
              "0      VERB,perf,tran plur,1per,futr,indc  VERB  \n",
              "1                                    PNCT  None  \n",
              "2           NOUN,inan,neut,Fixd sing,nomn  NOUN  \n",
              "3                NOUN,inan,masc sing,gent  NOUN  \n",
              "4                                    ADVB  ADVB  \n",
              "...                                   ...   ...  \n",
              "42670  NOUN,inan,femn,Sgtm,Geox sing,datv  NOUN  \n",
              "42671            NOUN,inan,femn sing,nomn  NOUN  \n",
              "42672  VERB,perf,tran femn,sing,past,indc  VERB  \n",
              "42673                           NUMB,intg  None  \n",
              "42674            NOUN,anim,masc plur,gent  NOUN  \n",
              "\n",
              "[38084 rows x 6 columns]"
            ]
          },
          "metadata": {
            "tags": []
          },
          "execution_count": 24
        }
      ]
    },
    {
      "cell_type": "markdown",
      "metadata": {
        "id": "HfCmI4wMyPH9"
      },
      "source": [
        "И все бы ладно, да знаки препинания!"
      ]
    },
    {
      "cell_type": "code",
      "metadata": {
        "id": "9kE6M-zxyPH-",
        "outputId": "429f584e-a4b1-435d-c790-97127ef80c87"
      },
      "source": [
        "punkt = [',', ';', ':', '\"']\n",
        "my_final_dataframe.drop(my_final_dataframe[my_final_dataframe.words.isin (punkt)].index, inplace=True)\n",
        "my_final_dataframe"
      ],
      "execution_count": null,
      "outputs": [
        {
          "output_type": "execute_result",
          "data": {
            "text/html": [
              "<div>\n",
              "<style scoped>\n",
              "    .dataframe tbody tr th:only-of-type {\n",
              "        vertical-align: middle;\n",
              "    }\n",
              "\n",
              "    .dataframe tbody tr th {\n",
              "        vertical-align: top;\n",
              "    }\n",
              "\n",
              "    .dataframe thead th {\n",
              "        text-align: right;\n",
              "    }\n",
              "</style>\n",
              "<table border=\"1\" class=\"dataframe\">\n",
              "  <thead>\n",
              "    <tr style=\"text-align: right;\">\n",
              "      <th></th>\n",
              "      <th>titles</th>\n",
              "      <th>full_texts</th>\n",
              "      <th>words</th>\n",
              "      <th>lemma</th>\n",
              "      <th>form</th>\n",
              "      <th>POS</th>\n",
              "    </tr>\n",
              "  </thead>\n",
              "  <tbody>\n",
              "    <tr>\n",
              "      <th>0</th>\n",
              "      <td>Раскрыта тайна препарата в организме утонувшей...</td>\n",
              "      <td>Напомним , 23-го сентября вечером дочь артиста...</td>\n",
              "      <td>Напомним</td>\n",
              "      <td>напомнить</td>\n",
              "      <td>VERB,perf,tran plur,1per,futr,indc</td>\n",
              "      <td>VERB</td>\n",
              "    </tr>\n",
              "    <tr>\n",
              "      <th>2</th>\n",
              "      <td>Раскрыта тайна препарата в организме утонувшей...</td>\n",
              "      <td>Напомним , 23-го сентября вечером дочь артиста...</td>\n",
              "      <td>23-го</td>\n",
              "      <td>23-го</td>\n",
              "      <td>NOUN,inan,neut,Fixd sing,nomn</td>\n",
              "      <td>NOUN</td>\n",
              "    </tr>\n",
              "    <tr>\n",
              "      <th>3</th>\n",
              "      <td>Раскрыта тайна препарата в организме утонувшей...</td>\n",
              "      <td>Напомним , 23-го сентября вечером дочь артиста...</td>\n",
              "      <td>сентября</td>\n",
              "      <td>сентябрь</td>\n",
              "      <td>NOUN,inan,masc sing,gent</td>\n",
              "      <td>NOUN</td>\n",
              "    </tr>\n",
              "    <tr>\n",
              "      <th>4</th>\n",
              "      <td>Раскрыта тайна препарата в организме утонувшей...</td>\n",
              "      <td>Напомним , 23-го сентября вечером дочь артиста...</td>\n",
              "      <td>вечером</td>\n",
              "      <td>вечером</td>\n",
              "      <td>ADVB</td>\n",
              "      <td>ADVB</td>\n",
              "    </tr>\n",
              "    <tr>\n",
              "      <th>5</th>\n",
              "      <td>Раскрыта тайна препарата в организме утонувшей...</td>\n",
              "      <td>Напомним , 23-го сентября вечером дочь артиста...</td>\n",
              "      <td>дочь</td>\n",
              "      <td>дочь</td>\n",
              "      <td>NOUN,anim,femn sing,nomn</td>\n",
              "      <td>NOUN</td>\n",
              "    </tr>\n",
              "    <tr>\n",
              "      <th>...</th>\n",
              "      <td>...</td>\n",
              "      <td>...</td>\n",
              "      <td>...</td>\n",
              "      <td>...</td>\n",
              "      <td>...</td>\n",
              "      <td>...</td>\n",
              "    </tr>\n",
              "    <tr>\n",
              "      <th>42670</th>\n",
              "      <td>Футболисты забили до смерти одноклубника из-за...</td>\n",
              "      <td>Ранее сообщалось , что во время футбольного м...</td>\n",
              "      <td>Уганде</td>\n",
              "      <td>уганда</td>\n",
              "      <td>NOUN,inan,femn,Sgtm,Geox sing,datv</td>\n",
              "      <td>NOUN</td>\n",
              "    </tr>\n",
              "    <tr>\n",
              "      <th>42671</th>\n",
              "      <td>Футболисты забили до смерти одноклубника из-за...</td>\n",
              "      <td>Ранее сообщалось , что во время футбольного м...</td>\n",
              "      <td>молния</td>\n",
              "      <td>молния</td>\n",
              "      <td>NOUN,inan,femn sing,nomn</td>\n",
              "      <td>NOUN</td>\n",
              "    </tr>\n",
              "    <tr>\n",
              "      <th>42672</th>\n",
              "      <td>Футболисты забили до смерти одноклубника из-за...</td>\n",
              "      <td>Ранее сообщалось , что во время футбольного м...</td>\n",
              "      <td>убила</td>\n",
              "      <td>убить</td>\n",
              "      <td>VERB,perf,tran femn,sing,past,indc</td>\n",
              "      <td>VERB</td>\n",
              "    </tr>\n",
              "    <tr>\n",
              "      <th>42673</th>\n",
              "      <td>Футболисты забили до смерти одноклубника из-за...</td>\n",
              "      <td>Ранее сообщалось , что во время футбольного м...</td>\n",
              "      <td>10</td>\n",
              "      <td>10</td>\n",
              "      <td>NUMB,intg</td>\n",
              "      <td>None</td>\n",
              "    </tr>\n",
              "    <tr>\n",
              "      <th>42674</th>\n",
              "      <td>Футболисты забили до смерти одноклубника из-за...</td>\n",
              "      <td>Ранее сообщалось , что во время футбольного м...</td>\n",
              "      <td>игроков</td>\n",
              "      <td>игрок</td>\n",
              "      <td>NOUN,anim,masc plur,gent</td>\n",
              "      <td>NOUN</td>\n",
              "    </tr>\n",
              "  </tbody>\n",
              "</table>\n",
              "<p>34947 rows × 6 columns</p>\n",
              "</div>"
            ],
            "text/plain": [
              "                                                  titles  \\\n",
              "0      Раскрыта тайна препарата в организме утонувшей...   \n",
              "2      Раскрыта тайна препарата в организме утонувшей...   \n",
              "3      Раскрыта тайна препарата в организме утонувшей...   \n",
              "4      Раскрыта тайна препарата в организме утонувшей...   \n",
              "5      Раскрыта тайна препарата в организме утонувшей...   \n",
              "...                                                  ...   \n",
              "42670  Футболисты забили до смерти одноклубника из-за...   \n",
              "42671  Футболисты забили до смерти одноклубника из-за...   \n",
              "42672  Футболисты забили до смерти одноклубника из-за...   \n",
              "42673  Футболисты забили до смерти одноклубника из-за...   \n",
              "42674  Футболисты забили до смерти одноклубника из-за...   \n",
              "\n",
              "                                              full_texts     words      lemma  \\\n",
              "0      Напомним , 23-го сентября вечером дочь артиста...  Напомним  напомнить   \n",
              "2      Напомним , 23-го сентября вечером дочь артиста...     23-го      23-го   \n",
              "3      Напомним , 23-го сентября вечером дочь артиста...  сентября   сентябрь   \n",
              "4      Напомним , 23-го сентября вечером дочь артиста...   вечером    вечером   \n",
              "5      Напомним , 23-го сентября вечером дочь артиста...      дочь       дочь   \n",
              "...                                                  ...       ...        ...   \n",
              "42670   Ранее сообщалось , что во время футбольного м...    Уганде     уганда   \n",
              "42671   Ранее сообщалось , что во время футбольного м...    молния     молния   \n",
              "42672   Ранее сообщалось , что во время футбольного м...     убила      убить   \n",
              "42673   Ранее сообщалось , что во время футбольного м...        10         10   \n",
              "42674   Ранее сообщалось , что во время футбольного м...   игроков      игрок   \n",
              "\n",
              "                                     form   POS  \n",
              "0      VERB,perf,tran plur,1per,futr,indc  VERB  \n",
              "2           NOUN,inan,neut,Fixd sing,nomn  NOUN  \n",
              "3                NOUN,inan,masc sing,gent  NOUN  \n",
              "4                                    ADVB  ADVB  \n",
              "5                NOUN,anim,femn sing,nomn  NOUN  \n",
              "...                                   ...   ...  \n",
              "42670  NOUN,inan,femn,Sgtm,Geox sing,datv  NOUN  \n",
              "42671            NOUN,inan,femn sing,nomn  NOUN  \n",
              "42672  VERB,perf,tran femn,sing,past,indc  VERB  \n",
              "42673                           NUMB,intg  None  \n",
              "42674            NOUN,anim,masc plur,gent  NOUN  \n",
              "\n",
              "[34947 rows x 6 columns]"
            ]
          },
          "metadata": {
            "tags": []
          },
          "execution_count": 28
        }
      ]
    },
    {
      "cell_type": "markdown",
      "metadata": {
        "id": "1ST6mw7lyPIE"
      },
      "source": [
        "Чистота, красота, и только мертвые с косами стоят...мертвые индексы, разумеется. Которые уже совершенно не соответствуют настоящим и будут бесполезны при проверке соседства. Создадим-ка новые"
      ]
    },
    {
      "cell_type": "code",
      "metadata": {
        "id": "1kD-P5dPyPIF"
      },
      "source": [
        "my_final_dataframe['ind'] = [i for i in range(34947)]"
      ],
      "execution_count": null,
      "outputs": []
    },
    {
      "cell_type": "code",
      "metadata": {
        "scrolled": true,
        "id": "yU7r7cnGyPIN",
        "outputId": "8675f246-0676-458c-c1eb-f6bb495dd2cb"
      },
      "source": [
        "my_final_dataframe[900:920]"
      ],
      "execution_count": null,
      "outputs": [
        {
          "output_type": "execute_result",
          "data": {
            "text/html": [
              "<div>\n",
              "<style scoped>\n",
              "    .dataframe tbody tr th:only-of-type {\n",
              "        vertical-align: middle;\n",
              "    }\n",
              "\n",
              "    .dataframe tbody tr th {\n",
              "        vertical-align: top;\n",
              "    }\n",
              "\n",
              "    .dataframe thead th {\n",
              "        text-align: right;\n",
              "    }\n",
              "</style>\n",
              "<table border=\"1\" class=\"dataframe\">\n",
              "  <thead>\n",
              "    <tr style=\"text-align: right;\">\n",
              "      <th></th>\n",
              "      <th>titles</th>\n",
              "      <th>full_texts</th>\n",
              "      <th>words</th>\n",
              "      <th>lemma</th>\n",
              "      <th>form</th>\n",
              "      <th>POS</th>\n",
              "      <th>ind</th>\n",
              "    </tr>\n",
              "  </thead>\n",
              "  <tbody>\n",
              "    <tr>\n",
              "      <th>1077</th>\n",
              "      <td>Девочка сбежала от матери, делавшей из нее рабыню</td>\n",
              "      <td>Вся забота о ней будет пока полностью на плеч...</td>\n",
              "      <td>которые</td>\n",
              "      <td>который</td>\n",
              "      <td>ADJF,Apro,Subx,Anph plur,nomn</td>\n",
              "      <td>ADJF</td>\n",
              "      <td>900</td>\n",
              "    </tr>\n",
              "    <tr>\n",
              "      <th>1078</th>\n",
              "      <td>Девочка сбежала от матери, делавшей из нее рабыню</td>\n",
              "      <td>Вся забота о ней будет пока полностью на плеч...</td>\n",
              "      <td>в</td>\n",
              "      <td>в</td>\n",
              "      <td>PREP</td>\n",
              "      <td>PREP</td>\n",
              "      <td>901</td>\n",
              "    </tr>\n",
              "    <tr>\n",
              "      <th>1079</th>\n",
              "      <td>Девочка сбежала от матери, делавшей из нее рабыню</td>\n",
              "      <td>Вся забота о ней будет пока полностью на плеч...</td>\n",
              "      <td>свою</td>\n",
              "      <td>свой</td>\n",
              "      <td>ADJF,Apro,Anph femn,sing,accs</td>\n",
              "      <td>ADJF</td>\n",
              "      <td>902</td>\n",
              "    </tr>\n",
              "    <tr>\n",
              "      <th>1080</th>\n",
              "      <td>Девочка сбежала от матери, делавшей из нее рабыню</td>\n",
              "      <td>Вся забота о ней будет пока полностью на плеч...</td>\n",
              "      <td>очередь</td>\n",
              "      <td>очередь</td>\n",
              "      <td>NOUN,inan,femn sing,accs</td>\n",
              "      <td>NOUN</td>\n",
              "      <td>903</td>\n",
              "    </tr>\n",
              "    <tr>\n",
              "      <th>1081</th>\n",
              "      <td>Девочка сбежала от матери, делавшей из нее рабыню</td>\n",
              "      <td>Вся забота о ней будет пока полностью на плеч...</td>\n",
              "      <td>тоже</td>\n",
              "      <td>тоже</td>\n",
              "      <td>ADVB</td>\n",
              "      <td>ADVB</td>\n",
              "      <td>904</td>\n",
              "    </tr>\n",
              "    <tr>\n",
              "      <th>1082</th>\n",
              "      <td>Девочка сбежала от матери, делавшей из нее рабыню</td>\n",
              "      <td>Вся забота о ней будет пока полностью на плеч...</td>\n",
              "      <td>не</td>\n",
              "      <td>не</td>\n",
              "      <td>PRCL</td>\n",
              "      <td>PRCL</td>\n",
              "      <td>905</td>\n",
              "    </tr>\n",
              "    <tr>\n",
              "      <th>1083</th>\n",
              "      <td>Девочка сбежала от матери, делавшей из нее рабыню</td>\n",
              "      <td>Вся забота о ней будет пока полностью на плеч...</td>\n",
              "      <td>получат</td>\n",
              "      <td>получить</td>\n",
              "      <td>VERB,perf,tran plur,3per,futr,indc</td>\n",
              "      <td>VERB</td>\n",
              "      <td>906</td>\n",
              "    </tr>\n",
              "    <tr>\n",
              "      <th>1084</th>\n",
              "      <td>Девочка сбежала от матери, делавшей из нее рабыню</td>\n",
              "      <td>Вся забота о ней будет пока полностью на плеч...</td>\n",
              "      <td>никаких</td>\n",
              "      <td>никакой</td>\n",
              "      <td>ADJF,Apro plur,gent</td>\n",
              "      <td>ADJF</td>\n",
              "      <td>907</td>\n",
              "    </tr>\n",
              "    <tr>\n",
              "      <th>1085</th>\n",
              "      <td>Девочка сбежала от матери, делавшей из нее рабыню</td>\n",
              "      <td>Вся забота о ней будет пока полностью на плеч...</td>\n",
              "      <td>средств</td>\n",
              "      <td>средство</td>\n",
              "      <td>NOUN,inan,neut plur,gent</td>\n",
              "      <td>NOUN</td>\n",
              "      <td>908</td>\n",
              "    </tr>\n",
              "    <tr>\n",
              "      <th>1086</th>\n",
              "      <td>Девочка сбежала от матери, делавшей из нее рабыню</td>\n",
              "      <td>Вся забота о ней будет пока полностью на плеч...</td>\n",
              "      <td>на</td>\n",
              "      <td>на</td>\n",
              "      <td>PREP</td>\n",
              "      <td>PREP</td>\n",
              "      <td>909</td>\n",
              "    </tr>\n",
              "    <tr>\n",
              "      <th>1087</th>\n",
              "      <td>Девочка сбежала от матери, делавшей из нее рабыню</td>\n",
              "      <td>Вся забота о ней будет пока полностью на плеч...</td>\n",
              "      <td>содержание</td>\n",
              "      <td>содержание</td>\n",
              "      <td>NOUN,inan,neut sing,accs</td>\n",
              "      <td>NOUN</td>\n",
              "      <td>910</td>\n",
              "    </tr>\n",
              "    <tr>\n",
              "      <th>1088</th>\n",
              "      <td>Девочка сбежала от матери, делавшей из нее рабыню</td>\n",
              "      <td>Вся забота о ней будет пока полностью на плеч...</td>\n",
              "      <td>девушки</td>\n",
              "      <td>девушка</td>\n",
              "      <td>NOUN,anim,femn plur,nomn</td>\n",
              "      <td>NOUN</td>\n",
              "      <td>911</td>\n",
              "    </tr>\n",
              "    <tr>\n",
              "      <th>1091</th>\n",
              "      <td>Девочка сбежала от матери, делавшей из нее рабыню</td>\n",
              "      <td>А меж тем Яна уже прошла программу первого кл...</td>\n",
              "      <td>А</td>\n",
              "      <td>а</td>\n",
              "      <td>CONJ</td>\n",
              "      <td>CONJ</td>\n",
              "      <td>912</td>\n",
              "    </tr>\n",
              "    <tr>\n",
              "      <th>1092</th>\n",
              "      <td>Девочка сбежала от матери, делавшей из нее рабыню</td>\n",
              "      <td>А меж тем Яна уже прошла программу первого кл...</td>\n",
              "      <td>меж</td>\n",
              "      <td>меж</td>\n",
              "      <td>PREP</td>\n",
              "      <td>PREP</td>\n",
              "      <td>913</td>\n",
              "    </tr>\n",
              "    <tr>\n",
              "      <th>1093</th>\n",
              "      <td>Девочка сбежала от матери, делавшей из нее рабыню</td>\n",
              "      <td>А меж тем Яна уже прошла программу первого кл...</td>\n",
              "      <td>тем</td>\n",
              "      <td>тем</td>\n",
              "      <td>CONJ</td>\n",
              "      <td>CONJ</td>\n",
              "      <td>914</td>\n",
              "    </tr>\n",
              "    <tr>\n",
              "      <th>1094</th>\n",
              "      <td>Девочка сбежала от матери, делавшей из нее рабыню</td>\n",
              "      <td>А меж тем Яна уже прошла программу первого кл...</td>\n",
              "      <td>Яна</td>\n",
              "      <td>ян</td>\n",
              "      <td>NOUN,anim,masc,Name sing,gent</td>\n",
              "      <td>NOUN</td>\n",
              "      <td>915</td>\n",
              "    </tr>\n",
              "    <tr>\n",
              "      <th>1095</th>\n",
              "      <td>Девочка сбежала от матери, делавшей из нее рабыню</td>\n",
              "      <td>А меж тем Яна уже прошла программу первого кл...</td>\n",
              "      <td>уже</td>\n",
              "      <td>уже</td>\n",
              "      <td>ADVB</td>\n",
              "      <td>ADVB</td>\n",
              "      <td>916</td>\n",
              "    </tr>\n",
              "    <tr>\n",
              "      <th>1096</th>\n",
              "      <td>Девочка сбежала от матери, делавшей из нее рабыню</td>\n",
              "      <td>А меж тем Яна уже прошла программу первого кл...</td>\n",
              "      <td>прошла</td>\n",
              "      <td>пройти</td>\n",
              "      <td>VERB,perf,tran femn,sing,past,indc</td>\n",
              "      <td>VERB</td>\n",
              "      <td>917</td>\n",
              "    </tr>\n",
              "    <tr>\n",
              "      <th>1097</th>\n",
              "      <td>Девочка сбежала от матери, делавшей из нее рабыню</td>\n",
              "      <td>А меж тем Яна уже прошла программу первого кл...</td>\n",
              "      <td>программу</td>\n",
              "      <td>программа</td>\n",
              "      <td>NOUN,inan,femn sing,accs</td>\n",
              "      <td>NOUN</td>\n",
              "      <td>918</td>\n",
              "    </tr>\n",
              "    <tr>\n",
              "      <th>1098</th>\n",
              "      <td>Девочка сбежала от матери, делавшей из нее рабыню</td>\n",
              "      <td>А меж тем Яна уже прошла программу первого кл...</td>\n",
              "      <td>первого</td>\n",
              "      <td>первое</td>\n",
              "      <td>NOUN,inan,neut sing,gent</td>\n",
              "      <td>NOUN</td>\n",
              "      <td>919</td>\n",
              "    </tr>\n",
              "  </tbody>\n",
              "</table>\n",
              "</div>"
            ],
            "text/plain": [
              "                                                 titles  \\\n",
              "1077  Девочка сбежала от матери, делавшей из нее рабыню   \n",
              "1078  Девочка сбежала от матери, делавшей из нее рабыню   \n",
              "1079  Девочка сбежала от матери, делавшей из нее рабыню   \n",
              "1080  Девочка сбежала от матери, делавшей из нее рабыню   \n",
              "1081  Девочка сбежала от матери, делавшей из нее рабыню   \n",
              "1082  Девочка сбежала от матери, делавшей из нее рабыню   \n",
              "1083  Девочка сбежала от матери, делавшей из нее рабыню   \n",
              "1084  Девочка сбежала от матери, делавшей из нее рабыню   \n",
              "1085  Девочка сбежала от матери, делавшей из нее рабыню   \n",
              "1086  Девочка сбежала от матери, делавшей из нее рабыню   \n",
              "1087  Девочка сбежала от матери, делавшей из нее рабыню   \n",
              "1088  Девочка сбежала от матери, делавшей из нее рабыню   \n",
              "1091  Девочка сбежала от матери, делавшей из нее рабыню   \n",
              "1092  Девочка сбежала от матери, делавшей из нее рабыню   \n",
              "1093  Девочка сбежала от матери, делавшей из нее рабыню   \n",
              "1094  Девочка сбежала от матери, делавшей из нее рабыню   \n",
              "1095  Девочка сбежала от матери, делавшей из нее рабыню   \n",
              "1096  Девочка сбежала от матери, делавшей из нее рабыню   \n",
              "1097  Девочка сбежала от матери, делавшей из нее рабыню   \n",
              "1098  Девочка сбежала от матери, делавшей из нее рабыню   \n",
              "\n",
              "                                             full_texts       words  \\\n",
              "1077   Вся забота о ней будет пока полностью на плеч...     которые   \n",
              "1078   Вся забота о ней будет пока полностью на плеч...           в   \n",
              "1079   Вся забота о ней будет пока полностью на плеч...        свою   \n",
              "1080   Вся забота о ней будет пока полностью на плеч...     очередь   \n",
              "1081   Вся забота о ней будет пока полностью на плеч...        тоже   \n",
              "1082   Вся забота о ней будет пока полностью на плеч...          не   \n",
              "1083   Вся забота о ней будет пока полностью на плеч...     получат   \n",
              "1084   Вся забота о ней будет пока полностью на плеч...     никаких   \n",
              "1085   Вся забота о ней будет пока полностью на плеч...     средств   \n",
              "1086   Вся забота о ней будет пока полностью на плеч...          на   \n",
              "1087   Вся забота о ней будет пока полностью на плеч...  содержание   \n",
              "1088   Вся забота о ней будет пока полностью на плеч...     девушки   \n",
              "1091   А меж тем Яна уже прошла программу первого кл...           А   \n",
              "1092   А меж тем Яна уже прошла программу первого кл...         меж   \n",
              "1093   А меж тем Яна уже прошла программу первого кл...         тем   \n",
              "1094   А меж тем Яна уже прошла программу первого кл...         Яна   \n",
              "1095   А меж тем Яна уже прошла программу первого кл...         уже   \n",
              "1096   А меж тем Яна уже прошла программу первого кл...      прошла   \n",
              "1097   А меж тем Яна уже прошла программу первого кл...   программу   \n",
              "1098   А меж тем Яна уже прошла программу первого кл...     первого   \n",
              "\n",
              "           lemma                                form   POS  ind  \n",
              "1077     который       ADJF,Apro,Subx,Anph plur,nomn  ADJF  900  \n",
              "1078           в                                PREP  PREP  901  \n",
              "1079        свой       ADJF,Apro,Anph femn,sing,accs  ADJF  902  \n",
              "1080     очередь            NOUN,inan,femn sing,accs  NOUN  903  \n",
              "1081        тоже                                ADVB  ADVB  904  \n",
              "1082          не                                PRCL  PRCL  905  \n",
              "1083    получить  VERB,perf,tran plur,3per,futr,indc  VERB  906  \n",
              "1084     никакой                 ADJF,Apro plur,gent  ADJF  907  \n",
              "1085    средство            NOUN,inan,neut plur,gent  NOUN  908  \n",
              "1086          на                                PREP  PREP  909  \n",
              "1087  содержание            NOUN,inan,neut sing,accs  NOUN  910  \n",
              "1088     девушка            NOUN,anim,femn plur,nomn  NOUN  911  \n",
              "1091           а                                CONJ  CONJ  912  \n",
              "1092         меж                                PREP  PREP  913  \n",
              "1093         тем                                CONJ  CONJ  914  \n",
              "1094          ян       NOUN,anim,masc,Name sing,gent  NOUN  915  \n",
              "1095         уже                                ADVB  ADVB  916  \n",
              "1096      пройти  VERB,perf,tran femn,sing,past,indc  VERB  917  \n",
              "1097   программа            NOUN,inan,femn sing,accs  NOUN  918  \n",
              "1098      первое            NOUN,inan,neut sing,gent  NOUN  919  "
            ]
          },
          "metadata": {
            "tags": []
          },
          "execution_count": 148
        }
      ]
    },
    {
      "cell_type": "markdown",
      "metadata": {
        "id": "xGls6JIpyPIU"
      },
      "source": [
        "Вуаля! Теперь можно с чистой совестью сохранять в базу данных. Ссв, правда. "
      ]
    },
    {
      "cell_type": "code",
      "metadata": {
        "id": "i2oL0xugyPIV"
      },
      "source": [
        "my_final_dataframe.to_csv('clean_textbase_parsed.csv')"
      ],
      "execution_count": null,
      "outputs": []
    },
    {
      "cell_type": "markdown",
      "metadata": {
        "id": "NLFNMGpHyPIg"
      },
      "source": [
        "## MAIN"
      ]
    },
    {
      "cell_type": "markdown",
      "metadata": {
        "id": "8tZwmDtLyPI_"
      },
      "source": [
        "Итак, вот и пришло время для воплощения самой функции мэйн, которая будет искать в нашем корпусе нужные нам слова"
      ]
    },
    {
      "cell_type": "markdown",
      "metadata": {
        "id": "g7qemc37yPJB"
      },
      "source": [
        "Для начала, дернем из документации пайморфи список поддерживаемых тегов:"
      ]
    },
    {
      "cell_type": "markdown",
      "metadata": {
        "id": "DtkY6i8lyPJC"
      },
      "source": [
        "NOUN\tимя существительное\n",
        "\n",
        "ADJF\tимя прилагательное (полное)\n",
        "\n",
        "ADJS\tимя прилагательное (краткое)\n",
        "\n",
        "COMP\tкомпаратив\n",
        "\n",
        "VERB\tглагол (личная форма)\n",
        "\n",
        "INFN\tглагол (инфинитив)\n",
        "\n",
        "PRTF\tпричастие (полное)\n",
        "\n",
        "PRTS\tпричастие (краткое)\n",
        "\n",
        "GRND\tдеепричастие\n",
        "\n",
        "NUMR\tчислительное\n",
        "\n",
        "ADVB\tнаречие\n",
        "\n",
        "NPRO\tместоимение-существительное\n",
        "\n",
        "PRED\tпредикатив\n",
        "\n",
        "PREP\tпредлог\n",
        "\n",
        "CONJ\tсоюз\n",
        "\n",
        "PRCL\tчастица\n",
        "\n",
        "INTJ\tмеждометие"
      ]
    },
    {
      "cell_type": "markdown",
      "metadata": {
        "id": "Yy5UnJWoyPJD"
      },
      "source": [
        "Пригодится. Теперь осталась только одна маленькая декоративная деталь - класс ошибок, который поможет нам тихо-мирно выходить из ячейки, если пользователь косячит:"
      ]
    },
    {
      "cell_type": "code",
      "metadata": {
        "id": "FDhAKTuCyPJD"
      },
      "source": [
        "class StopExecution(Exception):\n",
        "    def _render_traceback_(self):\n",
        "        pass\n",
        "\n",
        "raise StopExecution"
      ],
      "execution_count": null,
      "outputs": []
    },
    {
      "cell_type": "markdown",
      "metadata": {
        "id": "Uv6Zz8rPyPJG"
      },
      "source": [
        "Его основные преимущества это, во-первых, то, что он не убивает кернел - а это довольно раздражающая штука, - а во-вторых, он тихо выходит и не сообщает пользователю, где там что из-за его головотяпства упало."
      ]
    },
    {
      "cell_type": "markdown",
      "metadata": {
        "id": "XAOjJ3EYyPJH"
      },
      "source": [
        "Итак, функции-обработчики! Им будут поступать запросы, для которых уже определено, чего от нас хотят - это мельчайшие функции на самом низком уровне пищевой цепи, и задачи у них довольно простые и связаны с непосредственным поиском по базе"
      ]
    },
    {
      "cell_type": "code",
      "metadata": {
        "id": "vH8QrY1eyPJI"
      },
      "source": [
        "allowed_tags = ['NOUN', 'ADJF', 'ADJS', 'COMP', 'VERB', 'INFN', 'PRTF', 'PRTS', 'GRND', 'NUMR', 'ADVB', 'NPRO', 'PRED', 'PREP', 'CONJ', 'PRCL', 'INTJ']\n",
        "\n",
        "def get_morphology(dataframe, word):\n",
        "    #inputs dataframe and str, outputs dataframe and list\n",
        "    #looks for the same word\n",
        "    word1 = word.strip('\"')\n",
        "    df_word = dataframe.loc[dataframe['words'] == word1]\n",
        "    sentences = df_word['full_texts'].tolist()\n",
        "    if len(sentences)==0:\n",
        "        print('К сожалению, такого слова нет в моем словаре!')\n",
        "        raise StopExecution\n",
        "    else:\n",
        "        return df_word, sentences\n",
        "    \n",
        "def get_tagged(dataframe, word, allowed_tags=['NOUN', 'ADJF', 'ADJS', 'COMP', 'VERB', 'INFN', 'PRTF', 'PRTS', 'GRND', 'NUMR', 'ADVB', 'NPRO', 'PRED', 'PREP', 'CONJ', 'PRCL', 'INTJ']\n",
        "):\n",
        "    #inputs dataframe, list and str, outputs dataframe and list\n",
        "    #looks for specified lemma with specified POS \n",
        "    compl_word = word.split('+')\n",
        "    tag = set(allowed_tags)&set(compl_word)\n",
        "    if not tag:\n",
        "        print('К сожалению, я не знаю этот тег!')\n",
        "        raise StopExecution\n",
        "    else:\n",
        "        current_word = morph.parse(compl_word[0])[0]\n",
        "        current_word_lemma = current_word.normal_form\n",
        "        current_word_POS = current_word.tag.POS\n",
        "        df_word_POS = dataframe.loc[(dataframe['lemma'] == current_word_lemma) & (dataframe['POS'] == current_word_POS)]\n",
        "        sentences = df_word_POS['full_texts'].tolist()\n",
        "        return df_word_POS, sentences\n",
        "    \n",
        "def get_lemma(dataframe, word):\n",
        "    #inputs dataframe and str, outputs dataframe and list\n",
        "    #looks for the same lemma\n",
        "    word_lem_parsed = morph.parse(word)[0]\n",
        "    word_lem_lemma = word_lem_parsed.normal_form\n",
        "    df_lemma = dataframe.loc[(dataframe['lemma'] == word_lem_lemma)]\n",
        "    sentences = df_lemma['full_texts'].tolist()\n",
        "    if len(sentences)==0:\n",
        "        print('К сожалению, такого слова нет в моем словаре!')\n",
        "        raise StopExecution\n",
        "    else:\n",
        "        return df_lemma, sentences\n",
        "    \n",
        "def get_pos(dataframe, word):\n",
        "    #inputs dataframe and str, outputs dataframe and list\n",
        "    #looks for the same POS\n",
        "    df_pos = dataframe.loc[(dataframe['POS'] == word)]\n",
        "    sentences = df_pos['full_texts'].tolist()\n",
        "    if len(sentences)==0:\n",
        "        print('К сожалению, слов этой части речи нет в моем словаре!')\n",
        "        raise StopExecution\n",
        "    else:\n",
        "        return df_pos, sentences\n",
        "    "
      ],
      "execution_count": null,
      "outputs": []
    },
    {
      "cell_type": "markdown",
      "metadata": {
        "id": "I7fZKz15yPJN"
      },
      "source": [
        "И вот, момент настал. Две самые крупные рыбы в этом море. Функция работы со словами - та самая станция сортировки, которая определяет, какому именно поисковику перенаправить запрос, и заодно отвечает пользователю, что именно он попросил. Функция работы с запросами токенизирует их по пробелам (зачем множить токенизаторы без необходимости?), и в зависимости от количества токенов выдает ответ: предложения, в которых встретились слова, и заголовки статей, откуда эти предложения к нам попали. Оптимизируем поиск мы постепенным сужением круга поиска - результат поиска по первому слову сужает круг, второе слово ищется уже в выдаче предложений для первого, третье - в выдаче для второго. "
      ]
    },
    {
      "cell_type": "code",
      "metadata": {
        "id": "mKc7m8dmyPJO"
      },
      "source": [
        "def work_with_words(dataframe, word, allowed_tags=allowed_tags):\n",
        "    trick = word[0]\n",
        "    if trick=='\"':\n",
        "        print('вы запрашиваете слова этой леммы в этой форме')\n",
        "        return get_morphology(dataframe, word)\n",
        "    elif '+' in word:\n",
        "        print('вы запрашиваете лемму с конкретной частью речи')\n",
        "        return get_tagged(dataframe, word, allowed_tags=allowed_tags)\n",
        "    elif word in allowed_tags:\n",
        "        print('вы запрашиваете все слова по тегу этой части речи')\n",
        "        return get_pos(dataframe, word)\n",
        "    else:\n",
        "        print('вы запрашиваете поиск по лемме')\n",
        "        return get_lemma(dataframe, word)\n",
        "    \n",
        "def work_with_quiery(quiery):\n",
        "    quiery_parsed = quiery.split(' ')\n",
        "    print(quiery_parsed)\n",
        "    if len(quiery_parsed)==1:\n",
        "        print('1')\n",
        "        answer,_ = work_with_words(my_final_dataframe, quiery_parsed[0], allowed_tags=allowed_tags)\n",
        "        list_words = []\n",
        "        for index, row in answer.iterrows():\n",
        "            answer_word = str('Это слово встретилось в предложении:'+ row['full_texts'] + '. | которое было в статье: ' + row['titles'])\n",
        "            list_words.append(answer_word)\n",
        "        return list_words\n",
        "    \n",
        "    elif len(quiery_parsed)==2:\n",
        "        print('2')\n",
        "        list_sentences = []\n",
        "        first_answer, first_sentences = work_with_words(my_final_dataframe, quiery_parsed[0], allowed_tags=allowed_tags)\n",
        "        indexes = first_answer['ind'].tolist()\n",
        "        indexes = [x + 1 for x in indexes]\n",
        "        second_answer_pool = my_final_dataframe.loc[my_final_dataframe['full_texts'].isin(first_sentences)]\n",
        "        second_answer, second_sentences = work_with_words(second_answer_pool, quiery_parsed[1], allowed_tags=allowed_tags)\n",
        "        second_indexes = second_answer['ind'].tolist()\n",
        "        right_index = set(indexes)&set(second_indexes)\n",
        "        if not right_index:\n",
        "            print('К сожалению, в моем корпусе нет ничего по вашему запросу')\n",
        "        else:\n",
        "            for elem in right_index:\n",
        "                    locate_row = my_final_dataframe.loc[my_final_dataframe['ind'] == elem]\n",
        "                    for index, row in locate_row.iterrows():\n",
        "                        answer_word = str('Эти слова встретилось в предложении:'+ row['full_texts'] + '. | которое было в статье: ' + row['titles'])\n",
        "                        list_sentences.append(answer_word)\n",
        "        return list_sentences\n",
        "    \n",
        "    elif len(quiery_parsed)==3:\n",
        "        print('3')\n",
        "        list_sentences = []\n",
        "        first_answer, first_sentences = work_with_words(my_final_dataframe, quiery_parsed[0], allowed_tags=allowed_tags)\n",
        "        indexes = first_answer['ind'].tolist()\n",
        "        indexes = [x + 1 for x in indexes]\n",
        "        second_answer_pool = my_final_dataframe.loc[my_final_dataframe['full_texts'].isin(first_sentences)]\n",
        "        second_answer, second_sentences = work_with_words(second_answer_pool, quiery_parsed[1], allowed_tags=allowed_tags)\n",
        "        second_indexes = second_answer['ind'].tolist()\n",
        "        right_index = set(indexes)&set(second_indexes)\n",
        "        if not right_index:\n",
        "            print('К сожалению, в моем корпусе нет ничего по вашему запросу')\n",
        "        else:\n",
        "            right_index = [x + 1 for x in right_index]\n",
        "            third_answer_pool = my_final_dataframe.loc[my_final_dataframe['full_texts'].isin(second_sentences)]\n",
        "            third_answer, third_sentences = work_with_words(third_answer_pool, quiery_parsed[2], allowed_tags=allowed_tags)\n",
        "            third_indexes = third_answer['ind'].tolist()\n",
        "            master_index = set(right_index)&set(third_indexes)\n",
        "            if not master_index:\n",
        "                print('К сожалению, в моем корпусе нет ничего по вашему запросу')\n",
        "            else:\n",
        "                for elem in master_index:\n",
        "                    locate_row = my_final_dataframe.loc[my_final_dataframe['ind'] == elem]\n",
        "                    for index, row in locate_row.iterrows():\n",
        "                        answer_word = str('Эти слова встретились в предложении:'+ row['full_texts'] + ', которое было в статье: ' + row['titles'])\n",
        "                        list_sentences.append(answer_word)\n",
        "        return list_sentences        \n",
        "    else:\n",
        "        print ('К сожалению, я не обрабатываю запросы длиннее трех токенов')\n",
        "        raise StopExecution"
      ],
      "execution_count": null,
      "outputs": []
    },
    {
      "cell_type": "markdown",
      "metadata": {
        "id": "LoTxIsCOyPJT"
      },
      "source": [
        "Тадаам! Вот и мэйн. У него здесь дел немного - еще раз проверить, не возникла ли нигде ошибка с ненайденными ответами, которую мы не перехватили, а пользователю видеть и не надо, и предложить пользователю дать запрос. "
      ]
    },
    {
      "cell_type": "code",
      "metadata": {
        "id": "2d4W7iL2yPJV"
      },
      "source": [
        "def main():\n",
        "    quiery = input('Что ищем? Не более трех слов в запросе! ')\n",
        "    try:\n",
        "        answer = work_with_quiery(quiery)\n",
        "        for i in answer:\n",
        "            print(i)\n",
        "            print('\\n')\n",
        "    except TypeError:\n",
        "        print('Что-то пошло не так. Попробуйте переформулировать запрос')\n",
        "        raise StopExecution"
      ],
      "execution_count": null,
      "outputs": []
    },
    {
      "cell_type": "code",
      "metadata": {
        "id": "LLSSB4rIyPJa",
        "outputId": "17b2331f-3044-460c-8de8-dbd8cbda2298"
      },
      "source": [
        "main()"
      ],
      "execution_count": null,
      "outputs": [
        {
          "output_type": "stream",
          "text": [
            "Что ищем? Не более трех слов в запросе! на содержание девушка\n",
            "['на', 'содержание', 'девушка']\n",
            "3\n",
            "вы запрашиваете поиск по лемме\n",
            "вы запрашиваете поиск по лемме\n",
            "вы запрашиваете поиск по лемме\n",
            "Эти слова встретились в предложении: Вся забота о ней будет пока полностью на плечах опекунов , которые в свою очередь тоже не получат никаких средств на содержание девушки , которое было в статье: Девочка сбежала от матери, делавшей из нее рабыню\n",
            "\n",
            "\n"
          ],
          "name": "stdout"
        }
      ]
    }
  ]
}